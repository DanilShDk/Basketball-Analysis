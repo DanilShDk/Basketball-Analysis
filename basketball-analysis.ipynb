{
 "cells": [
  {
   "cell_type": "markdown",
   "metadata": {},
   "source": [
    "\n",
    "<blockquote><h3>Анализ зависимости успеха трехочкового броска от таймера в баскетбольных матчах</h3></blockquote>"
   ]
  },
  {
   "cell_type": "code",
   "execution_count": 1,
   "metadata": {},
   "outputs": [],
   "source": [
    "import numpy as np\n",
    "import pandas as pd\n",
    "\n",
    "from matplotlib import pyplot as plt\n",
    "\n",
    "import warnings\n",
    "warnings.filterwarnings('ignore')\n",
    "\n",
    "import seaborn as sns\n",
    "plt.style.use('seaborn-darkgrid')\n",
    "palette = plt.get_cmap('Set2')"
   ]
  },
  {
   "cell_type": "markdown",
   "metadata": {},
   "source": [
    "#### Импортируем библиотеки для выгрузки общедоступных данных из google cloud big query"
   ]
  },
  {
   "cell_type": "code",
   "execution_count": 2,
   "metadata": {},
   "outputs": [],
   "source": [
    "from google.cloud import bigquery\n",
    "from google.oauth2 import service_account"
   ]
  },
  {
   "cell_type": "code",
   "execution_count": 3,
   "metadata": {},
   "outputs": [],
   "source": [
    "key_path = 'C:/Users/Da_dk/projects/DataSc_practice/SQL&Pyhton/canvas-advice-393316-e480d1348f71.json'\n",
    "project_id = 'canvas-advice-393316'\n",
    "credentials = service_account.Credentials.from_service_account_file(key_path)\n",
    "client = bigquery.Client(credentials= credentials,project=project_id)"
   ]
  },
  {
   "cell_type": "markdown",
   "metadata": {},
   "source": [
    "Анализ производится на примере игр команд из первого дивизиона (D1)"
   ]
  },
  {
   "cell_type": "markdown",
   "metadata": {},
   "source": [
    "#### SQL- запрос к базе данных.\n",
    "Получим таблицу, в которой будут содержаться значения:\n",
    "* game_period - отрезок игры (последние 5 минут игры или первые 35)\n",
    "* threes_made - количество забитых 3-ехочковых мячей\n",
    "* total_threes - количество 3-ехочковых бросков\n",
    "* percentile - процент забитых мячей "
   ]
  },
  {
   "cell_type": "code",
   "execution_count": 4,
   "metadata": {},
   "outputs": [],
   "source": [
    "query_job = client.query('''\n",
    "\twith start_query as(\n",
    "                   select  event_type,\n",
    "                           elapsed_time_sec\n",
    "                   from    bigquery-public-data.ncaa_basketball.mbb_pbp_sr\n",
    "                   where   home_division_alias = 'D1' and away_division_alias ='D1' and event_type in (\"threepointmade\", \"threepointmiss\")),\n",
    "             game_part   as(\n",
    "                   select  \"first 35 minutes\" as game_period,\n",
    "                           countif(event_type =\"threepointmade\") as threes_made,\n",
    "                           countif(event_type =\"threepointmade\") + countif(event_type =\"threepointmiss\") as total_threes                    \n",
    "                   from    start_query\n",
    "                   where   elapsed_time_sec < 2100\n",
    "\n",
    "                   union all\n",
    "\n",
    "                   select  \"last 5 minutes\" as game_period,\n",
    "                           countif(event_type =\"threepointmade\") as threes_made,\n",
    "                           countif(event_type =\"threepointmade\") + countif(event_type =\"threepointmiss\") as total_threes                     \n",
    "                   from    start_query\n",
    "                   where   elapsed_time_sec >= 2100),\n",
    "             result       as(\n",
    "                   select  *,\n",
    "                           round(threes_made / total_threes, 2) as percentile\n",
    "                   from    game_part)\n",
    "\n",
    "        select * from result ''')\n"
   ]
  },
  {
   "cell_type": "code",
   "execution_count": 5,
   "metadata": {},
   "outputs": [],
   "source": [
    "df_three = query_job.to_dataframe()"
   ]
  },
  {
   "cell_type": "code",
   "execution_count": 6,
   "metadata": {},
   "outputs": [
    {
     "data": {
      "text/html": [
       "<div>\n",
       "<style scoped>\n",
       "    .dataframe tbody tr th:only-of-type {\n",
       "        vertical-align: middle;\n",
       "    }\n",
       "\n",
       "    .dataframe tbody tr th {\n",
       "        vertical-align: top;\n",
       "    }\n",
       "\n",
       "    .dataframe thead th {\n",
       "        text-align: right;\n",
       "    }\n",
       "</style>\n",
       "<table border=\"1\" class=\"dataframe\">\n",
       "  <thead>\n",
       "    <tr style=\"text-align: right;\">\n",
       "      <th></th>\n",
       "      <th>game_period</th>\n",
       "      <th>threes_made</th>\n",
       "      <th>total_threes</th>\n",
       "      <th>percentile</th>\n",
       "    </tr>\n",
       "  </thead>\n",
       "  <tbody>\n",
       "    <tr>\n",
       "      <th>0</th>\n",
       "      <td>first 35 minutes</td>\n",
       "      <td>132539</td>\n",
       "      <td>377798</td>\n",
       "      <td>0.35</td>\n",
       "    </tr>\n",
       "    <tr>\n",
       "      <th>1</th>\n",
       "      <td>last 5 minutes</td>\n",
       "      <td>19775</td>\n",
       "      <td>63308</td>\n",
       "      <td>0.31</td>\n",
       "    </tr>\n",
       "  </tbody>\n",
       "</table>\n",
       "</div>"
      ],
      "text/plain": [
       "        game_period  threes_made  total_threes  percentile\n",
       "0  first 35 minutes       132539        377798        0.35\n",
       "1    last 5 minutes        19775         63308        0.31"
      ]
     },
     "execution_count": 6,
     "metadata": {},
     "output_type": "execute_result"
    }
   ],
   "source": [
    "df_three"
   ]
  },
  {
   "cell_type": "markdown",
   "metadata": {},
   "source": [
    "* Как видно, разница между бросками в ходе основной части игры и последними 5 минутами составляет приблизительно 4%. Необходимо проверить, значима ли эта разница."
   ]
  },
  {
   "cell_type": "markdown",
   "metadata": {},
   "source": [
    "Получим датафреймы с результатами забитых мячей во время матчей в первый период игры - первые 35 минут и в последний период игры - оставшееся время"
   ]
  },
  {
   "cell_type": "code",
   "execution_count": 7,
   "metadata": {},
   "outputs": [],
   "source": [
    "query1 = client.query('''\n",
    "      select if (event_type = \"threepointmade\", 1, 0) as first_period\n",
    "      from (select   event_type \n",
    "            from     bigquery-public-data.ncaa_basketball.mbb_pbp_sr\n",
    "            where    event_type in (\"threepointmade\", \"threepointmiss\") and elapsed_time_sec < 2100\n",
    "            order by elapsed_time_sec)\n",
    "''')\n",
    "\n",
    "query2 = client.query('''\n",
    "      select if (event_type = \"threepointmade\", 1, 0) as second_period\n",
    "      from (select   event_type \n",
    "            from     bigquery-public-data.ncaa_basketball.mbb_pbp_sr\n",
    "            where    event_type in (\"threepointmade\", \"threepointmiss\") and elapsed_time_sec >= 2100\n",
    "            order by elapsed_time_sec)\n",
    "''')"
   ]
  },
  {
   "cell_type": "code",
   "execution_count": 8,
   "metadata": {},
   "outputs": [],
   "source": [
    "df_first = query1.to_dataframe()\n",
    "df_second = query2.to_dataframe()"
   ]
  },
  {
   "cell_type": "markdown",
   "metadata": {},
   "source": [
    "В результате имеем следующий датафрейм"
   ]
  },
  {
   "cell_type": "code",
   "execution_count": 9,
   "metadata": {},
   "outputs": [
    {
     "data": {
      "text/html": [
       "<div>\n",
       "<style scoped>\n",
       "    .dataframe tbody tr th:only-of-type {\n",
       "        vertical-align: middle;\n",
       "    }\n",
       "\n",
       "    .dataframe tbody tr th {\n",
       "        vertical-align: top;\n",
       "    }\n",
       "\n",
       "    .dataframe thead th {\n",
       "        text-align: right;\n",
       "    }\n",
       "</style>\n",
       "<table border=\"1\" class=\"dataframe\">\n",
       "  <thead>\n",
       "    <tr style=\"text-align: right;\">\n",
       "      <th></th>\n",
       "      <th>first_period</th>\n",
       "    </tr>\n",
       "  </thead>\n",
       "  <tbody>\n",
       "    <tr>\n",
       "      <th>0</th>\n",
       "      <td>0</td>\n",
       "    </tr>\n",
       "    <tr>\n",
       "      <th>1</th>\n",
       "      <td>0</td>\n",
       "    </tr>\n",
       "    <tr>\n",
       "      <th>2</th>\n",
       "      <td>1</td>\n",
       "    </tr>\n",
       "    <tr>\n",
       "      <th>3</th>\n",
       "      <td>0</td>\n",
       "    </tr>\n",
       "    <tr>\n",
       "      <th>4</th>\n",
       "      <td>0</td>\n",
       "    </tr>\n",
       "  </tbody>\n",
       "</table>\n",
       "</div>"
      ],
      "text/plain": [
       "   first_period\n",
       "0             0\n",
       "1             0\n",
       "2             1\n",
       "3             0\n",
       "4             0"
      ]
     },
     "execution_count": 9,
     "metadata": {},
     "output_type": "execute_result"
    }
   ],
   "source": [
    "df_first.head()"
   ]
  },
  {
   "cell_type": "code",
   "execution_count": 10,
   "metadata": {},
   "outputs": [
    {
     "data": {
      "text/html": [
       "<div>\n",
       "<style scoped>\n",
       "    .dataframe tbody tr th:only-of-type {\n",
       "        vertical-align: middle;\n",
       "    }\n",
       "\n",
       "    .dataframe tbody tr th {\n",
       "        vertical-align: top;\n",
       "    }\n",
       "\n",
       "    .dataframe thead th {\n",
       "        text-align: right;\n",
       "    }\n",
       "</style>\n",
       "<table border=\"1\" class=\"dataframe\">\n",
       "  <thead>\n",
       "    <tr style=\"text-align: right;\">\n",
       "      <th></th>\n",
       "      <th>second_period</th>\n",
       "    </tr>\n",
       "  </thead>\n",
       "  <tbody>\n",
       "    <tr>\n",
       "      <th>0</th>\n",
       "      <td>0</td>\n",
       "    </tr>\n",
       "    <tr>\n",
       "      <th>1</th>\n",
       "      <td>0</td>\n",
       "    </tr>\n",
       "    <tr>\n",
       "      <th>2</th>\n",
       "      <td>0</td>\n",
       "    </tr>\n",
       "    <tr>\n",
       "      <th>3</th>\n",
       "      <td>0</td>\n",
       "    </tr>\n",
       "    <tr>\n",
       "      <th>4</th>\n",
       "      <td>1</td>\n",
       "    </tr>\n",
       "  </tbody>\n",
       "</table>\n",
       "</div>"
      ],
      "text/plain": [
       "   second_period\n",
       "0              0\n",
       "1              0\n",
       "2              0\n",
       "3              0\n",
       "4              1"
      ]
     },
     "execution_count": 10,
     "metadata": {},
     "output_type": "execute_result"
    }
   ],
   "source": [
    "df_second.head()"
   ]
  },
  {
   "cell_type": "markdown",
   "metadata": {},
   "source": [
    "#### Имеем две гипотезы:\n",
    "* Нулевая гипотеза: разницы в относительном количестве забиваемых мячей нет\n",
    "* Алетрнативная гипотеза: Процент забитых мячей в целом больше в ходе первых 35 минут игры\n",
    "$$H_0: p_0 = p_1$$\n",
    "$$H_1: p_0 > p_1$$\n",
    "\n",
    "Гипотезы можно проверить несколькими способами. В данном проекте рассмотрим 2 из них:\n",
    "* Бутстрэп\n",
    "* АВ-тест"
   ]
  },
  {
   "cell_type": "markdown",
   "metadata": {},
   "source": [
    "<blockquote><h3>Применение бутстрэп для проверки гипотез</h3></blockquote>"
   ]
  },
  {
   "cell_type": "markdown",
   "metadata": {},
   "source": [
    "Фактическая разница забитых мячей в долях:"
   ]
  },
  {
   "cell_type": "code",
   "execution_count": 11,
   "metadata": {},
   "outputs": [
    {
     "data": {
      "text/plain": [
       "0.038054291139455465"
      ]
     },
     "execution_count": 11,
     "metadata": {},
     "output_type": "execute_result"
    }
   ],
   "source": [
    "p_diff_fact = abs(df_first.first_period.sum() / df_first.first_period.size -  df_second.second_period.sum() / df_second.second_period.size)\n",
    "p_diff_fact"
   ]
  },
  {
   "cell_type": "markdown",
   "metadata": {},
   "source": [
    "Зададим количество создаваемых в процессе бутстрэпа выборок"
   ]
  },
  {
   "cell_type": "code",
   "execution_count": 12,
   "metadata": {},
   "outputs": [],
   "source": [
    "num_boot = 1500\n",
    "p_diffs = []"
   ]
  },
  {
   "cell_type": "markdown",
   "metadata": {},
   "source": [
    "Вычислим разницу забитых мячей в долях между создаваемыми выборками"
   ]
  },
  {
   "cell_type": "code",
   "execution_count": 13,
   "metadata": {},
   "outputs": [],
   "source": [
    "for _ in range(num_boot):\n",
    "    first_period_boot = np.random.choice(df_first.first_period, df_first.first_period.size, True) # создаем выборки для первых 35 минут игры\n",
    "    second_period_boot = np.random.choice(df_second.second_period, df_second.second_period.size, True) # создаем выборки для оставшегося времени\n",
    "    p_diff = second_period_boot.sum() / second_period_boot.size - first_period_boot.sum() / first_period_boot.size\n",
    "    p_diffs.append(p_diff)"
   ]
  },
  {
   "cell_type": "code",
   "execution_count": 14,
   "metadata": {},
   "outputs": [
    {
     "data": {
      "image/png": "[encoded data removed]",
      "text/plain": [
       "<Figure size 1200x800 with 1 Axes>"
      ]
     },
     "metadata": {},
     "output_type": "display_data"
    }
   ],
   "source": [
    "plt.figure(figsize=(12, 8))\n",
    "plt.vlines(x=[p_diff_fact], ymin=[0], ymax=[250], colors=['red'])\n",
    "plt.title('Гистограмма разницы забитых мячей')\n",
    "sns.histplot(p_diffs, bins=15)\n",
    "plt.xlabel('Разница забитых мячей')\n",
    "plt.ylabel('Количество')\n",
    "plt.show()"
   ]
  },
  {
   "cell_type": "markdown",
   "metadata": {},
   "source": [
    "Центрируем относительно нуля значения выборки"
   ]
  },
  {
   "cell_type": "code",
   "execution_count": 15,
   "metadata": {},
   "outputs": [],
   "source": [
    "p_diffs = np.array(p_diffs)\n",
    "p_diffs_cent = p_diffs - p_diffs.mean()"
   ]
  },
  {
   "cell_type": "code",
   "execution_count": 16,
   "metadata": {},
   "outputs": [
    {
     "data": {
      "image/png": "[encoded data removed]",
      "text/plain": [
       "<Figure size 1200x800 with 1 Axes>"
      ]
     },
     "metadata": {},
     "output_type": "display_data"
    }
   ],
   "source": [
    "plt.figure(figsize=(12, 8))\n",
    "plt.vlines(x=[p_diff_fact], ymin=[0], ymax=[350], colors=['red'])\n",
    "plt.title('Центрированная гистограмма разницы забитых мячей')\n",
    "sns.histplot(p_diffs_cent, bins=10)\n",
    "plt.xlabel('Разница забитых мячей')\n",
    "plt.ylabel('Количество')\n",
    "plt.show()"
   ]
  },
  {
   "cell_type": "code",
   "execution_count": 17,
   "metadata": {},
   "outputs": [
    {
     "data": {
      "text/plain": [
       "0.0"
      ]
     },
     "execution_count": 17,
     "metadata": {},
     "output_type": "execute_result"
    }
   ],
   "source": [
    "p_value = sum(p_diffs_cent >= p_diff_fact) / num_boot\n",
    "p_value"
   ]
  },
  {
   "cell_type": "code",
   "execution_count": 18,
   "metadata": {},
   "outputs": [
    {
     "data": {
      "text/plain": [
       "'Нулевая гипотеза отклоняется на 5% уровне значимости'"
      ]
     },
     "execution_count": 18,
     "metadata": {},
     "output_type": "execute_result"
    }
   ],
   "source": [
    "alpha = 0.05\n",
    "result = f'Нулевая гипотеза принимается на {int(alpha*100)}% уровне значимости' if p_value > alpha \\\n",
    "    else f'Нулевая гипотеза отклоняется на {int(alpha*100)}% уровне значимости'\n",
    "result"
   ]
  },
  {
   "cell_type": "markdown",
   "metadata": {},
   "source": [
    "<blockquote><h3>A/B - тест</h3></blockquote>"
   ]
  },
  {
   "cell_type": "markdown",
   "metadata": {},
   "source": [
    "Зададим уровень значимости α = 5%"
   ]
  },
  {
   "cell_type": "markdown",
   "metadata": {},
   "source": [
    "##### Для анализа необходимо понимать, какое распределение имеют выборки \n",
    "##### Т.к. выборки состоят из 0 и 1, логично говорить о том, что перед нами распределения Бернулли. Тем не менее, для наглядности отразим это в проекте."
   ]
  },
  {
   "cell_type": "code",
   "execution_count": 19,
   "metadata": {},
   "outputs": [],
   "source": [
    "# Импортируем библиотеки для проверки распределений\n",
    "import scipy.stats as st\n",
    "from scipy.stats import bernoulli"
   ]
  },
  {
   "cell_type": "markdown",
   "metadata": {},
   "source": [
    "Можно воспользоваться критерием Колмогорова-Смирнова, чтобы проверить, что наше распределение соответствует предлагаемой модели распределения"
   ]
  },
  {
   "cell_type": "code",
   "execution_count": 20,
   "metadata": {},
   "outputs": [
    {
     "data": {
      "text/plain": [
       "KstestResult(statistic=0.0013640350303045778, pvalue=0.8689114400034655, statistic_location=0, statistic_sign=-1)"
      ]
     },
     "execution_count": 20,
     "metadata": {},
     "output_type": "execute_result"
    }
   ],
   "source": [
    "# Проверка первой выборки (первые 35 минут)\n",
    "p1 = 0.35\n",
    "bernoulli_data_model1 = bernoulli.rvs(p1, size=df_first.first_period.size)\n",
    "st.kstest(df_first.first_period.to_list(), bernoulli_data_model1)"
   ]
  },
  {
   "cell_type": "markdown",
   "metadata": {},
   "source": [
    "Значение p-value значительно больше 0.05, следовательно данные в выборке распределены по закону Бернулли"
   ]
  },
  {
   "cell_type": "code",
   "execution_count": 21,
   "metadata": {},
   "outputs": [
    {
     "data": {
      "text/plain": [
       "KstestResult(statistic=0.001657622718814089, pvalue=0.999992668413006, statistic_location=0, statistic_sign=-1)"
      ]
     },
     "execution_count": 21,
     "metadata": {},
     "output_type": "execute_result"
    }
   ],
   "source": [
    "# Проверка второй выборки (последние 5 минут)\n",
    "p2 = 0.31\n",
    "bernoulli_data_model2 = bernoulli.rvs(p2, size=df_second.second_period.size)\n",
    "st.kstest(df_second.second_period.to_list(), bernoulli_data_model2)"
   ]
  },
  {
   "cell_type": "markdown",
   "metadata": {},
   "source": [
    "Значение p-value значительно больше 0.05, следовательно данные в выборке распределены по закону Бернулли"
   ]
  },
  {
   "cell_type": "markdown",
   "metadata": {},
   "source": [
    "#### Итак, перед нами имеется распределение Бернулли\n",
    "##### Следовательно для проверки гипотез можно использовать z-критерий, тогда при α = 5%:\n"
   ]
  },
  {
   "cell_type": "code",
   "execution_count": 22,
   "metadata": {},
   "outputs": [],
   "source": [
    "z = 1.96"
   ]
  },
  {
   "cell_type": "markdown",
   "metadata": {},
   "source": [
    "При распределении Бернулли дисперсия вычисляется следующим образом\n",
    "$$ D = p (1 - p) $$"
   ]
  },
  {
   "cell_type": "markdown",
   "metadata": {},
   "source": [
    "Для проверки гипотез в данном случае достаточно построить доверительный интервал по выборкам"
   ]
  },
  {
   "cell_type": "code",
   "execution_count": 23,
   "metadata": {},
   "outputs": [],
   "source": [
    "p1 = df_first.first_period.sum() / df_first.first_period.size\n",
    "p2 = df_second.second_period.sum() / df_second.second_period.size\n",
    "n1 = df_first.first_period.size\n",
    "n2 = df_second.second_period.size"
   ]
  },
  {
   "cell_type": "markdown",
   "metadata": {},
   "source": [
    "Рассчитаем 95% доверительный интервал"
   ]
  },
  {
   "cell_type": "code",
   "execution_count": 24,
   "metadata": {},
   "outputs": [
    {
     "data": {
      "text/plain": [
       "[-0.04195320134298921, -0.03415538093592172]"
      ]
     },
     "execution_count": 24,
     "metadata": {},
     "output_type": "execute_result"
    }
   ],
   "source": [
    "standard_error = (p1 * (1 - p1) / n1 + p2 * (1 - p2) / n2)**(1/2)\n",
    "confidence_interval = [p2 - p1 - z * standard_error, p2 - p1 + z * standard_error]\n",
    "confidence_interval"
   ]
  },
  {
   "cell_type": "markdown",
   "metadata": {},
   "source": [
    "Отразим этот диапазон на гарфике"
   ]
  },
  {
   "cell_type": "code",
   "execution_count": 25,
   "metadata": {},
   "outputs": [
    {
     "data": {
      "image/png": "[encoded data removed]",
      "text/plain": [
       "<Figure size 1200x300 with 1 Axes>"
      ]
     },
     "metadata": {},
     "output_type": "display_data"
    }
   ],
   "source": [
    "plt.figure(figsize=(12, 3))\n",
    "plt.hlines(y = 0, xmin=confidence_interval[0] - 0.01, xmax=0, colors=['gray'])\n",
    "plt.scatter(x=confidence_interval[0], y=0, s=80, c='green')\n",
    "plt.scatter(x=confidence_interval[1], y=0, s=80, c='green')\n",
    "plt.title('Доверительный интервал для разницы пропорций')\n",
    "plt.show()"
   ]
  },
  {
   "cell_type": "markdown",
   "metadata": {},
   "source": [
    "<p style=\"margin-left: 50px; margin-bottom: 1px; margin-top: 10px;\">\n",
    "\n",
    "* Деврительный интервал смещен левее нуля и не пересекает его, следовательно нулевую гипотезу можно отвергнуть в пользу альтернативной </p>"
   ]
  },
  {
   "cell_type": "markdown",
   "metadata": {},
   "source": [
    "<blockquote><h3>Вывод</h3></blockquote>\n",
    "<p style=\"margin-left: 50px; margin-bottom: 1px; margin-top: 10px;\">\n",
    "\n",
    "* Нулевая гипотеза была отвергнута на 5% уровне значимости</p>\n",
    "<p style=\"margin-left: 50px; margin-bottom: 1px; margin-top: 10px;\">\n",
    "\n",
    "* Принята альтернативная гипотеза - процент забитых мячей в целом больше в ходе первых 35 минут игры</p>"
   ]
  }
 ],
 "metadata": {
  "kernelspec": {
   "display_name": "Python 3",
   "language": "python",
   "name": "python3"
  },
  "language_info": {
   "codemirror_mode": {
    "name": "ipython",
    "version": 3
   },
   "file_extension": ".py",
   "mimetype": "text/x-python",
   "name": "python",
   "nbconvert_exporter": "python",
   "pygments_lexer": "ipython3",
   "version": "3.11.2"
  },
  "orig_nbformat": 4
 },
 "nbformat": 4,
 "nbformat_minor": 2
}
